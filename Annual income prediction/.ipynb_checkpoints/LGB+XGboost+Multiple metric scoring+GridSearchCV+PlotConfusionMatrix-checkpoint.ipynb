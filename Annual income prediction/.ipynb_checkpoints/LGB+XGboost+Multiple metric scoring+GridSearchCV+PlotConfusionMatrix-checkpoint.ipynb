{
 "cells": [
  {
   "cell_type": "code",
   "execution_count": 1,
   "metadata": {},
   "outputs": [],
   "source": [
    "import numpy as np\n",
    "import pandas as pd\n",
    "import os\n",
    "\n",
    "import warnings\n",
    "warnings.filterwarnings(\"ignore\")"
   ]
  },
  {
   "cell_type": "code",
   "execution_count": 2,
   "metadata": {},
   "outputs": [
    {
     "name": "stdout",
     "output_type": "stream",
     "text": [
      "/c/Users/dkaithav/Machine-Learning-experiments/Annual income prediction\n"
     ]
    }
   ],
   "source": [
    "!pwd"
   ]
  },
  {
   "cell_type": "code",
   "execution_count": 3,
   "metadata": {},
   "outputs": [
    {
     "name": "stdout",
     "output_type": "stream",
     "text": [
      " Volume in drive C is Windows\n",
      " Volume Serial Number is 6018-0726\n",
      "\n",
      " Directory of C:\\Users\\dkaithav\\Machine-Learning-experiments\\Annual income prediction\n",
      "\n",
      "04/26/2020  09:56 PM    <DIR>          .\n",
      "04/26/2020  09:56 PM    <DIR>          ..\n",
      "04/26/2020  08:59 PM    <DIR>          .ipynb_checkpoints\n",
      "04/26/2020  12:40 PM         3,974,305 adult.data\n",
      "04/26/2020  12:41 PM             5,229 adult.names\n",
      "04/26/2020  12:43 PM         2,003,153 adult.test\n",
      "04/26/2020  09:56 PM            65,886 LGB+XGboost+Multiple metric scoring+GridSearchCV.ipynb\n",
      "               4 File(s)      6,048,573 bytes\n",
      "               3 Dir(s)  114,942,283,776 bytes free\n"
     ]
    }
   ],
   "source": [
    "!dir"
   ]
  },
  {
   "cell_type": "code",
   "execution_count": 4,
   "metadata": {},
   "outputs": [
    {
     "data": {
      "text/html": [
       "<div>\n",
       "<style scoped>\n",
       "    .dataframe tbody tr th:only-of-type {\n",
       "        vertical-align: middle;\n",
       "    }\n",
       "\n",
       "    .dataframe tbody tr th {\n",
       "        vertical-align: top;\n",
       "    }\n",
       "\n",
       "    .dataframe thead th {\n",
       "        text-align: right;\n",
       "    }\n",
       "</style>\n",
       "<table border=\"1\" class=\"dataframe\">\n",
       "  <thead>\n",
       "    <tr style=\"text-align: right;\">\n",
       "      <th></th>\n",
       "      <th>age</th>\n",
       "      <th>workclass</th>\n",
       "      <th>fnlwgt</th>\n",
       "      <th>education</th>\n",
       "      <th>education-num</th>\n",
       "      <th>marital_Status</th>\n",
       "      <th>occupation</th>\n",
       "      <th>relationship</th>\n",
       "      <th>race</th>\n",
       "      <th>sex</th>\n",
       "      <th>capital_gain</th>\n",
       "      <th>capital_loss</th>\n",
       "      <th>hours_per_week</th>\n",
       "      <th>native_country</th>\n",
       "      <th>Income</th>\n",
       "    </tr>\n",
       "  </thead>\n",
       "  <tbody>\n",
       "    <tr>\n",
       "      <td>0</td>\n",
       "      <td>39</td>\n",
       "      <td>State-gov</td>\n",
       "      <td>77516</td>\n",
       "      <td>Bachelors</td>\n",
       "      <td>13</td>\n",
       "      <td>Never-married</td>\n",
       "      <td>Adm-clerical</td>\n",
       "      <td>Not-in-family</td>\n",
       "      <td>White</td>\n",
       "      <td>Male</td>\n",
       "      <td>2174</td>\n",
       "      <td>0</td>\n",
       "      <td>40</td>\n",
       "      <td>United-States</td>\n",
       "      <td>&lt;=50K</td>\n",
       "    </tr>\n",
       "    <tr>\n",
       "      <td>1</td>\n",
       "      <td>50</td>\n",
       "      <td>Self-emp-not-inc</td>\n",
       "      <td>83311</td>\n",
       "      <td>Bachelors</td>\n",
       "      <td>13</td>\n",
       "      <td>Married-civ-spouse</td>\n",
       "      <td>Exec-managerial</td>\n",
       "      <td>Husband</td>\n",
       "      <td>White</td>\n",
       "      <td>Male</td>\n",
       "      <td>0</td>\n",
       "      <td>0</td>\n",
       "      <td>13</td>\n",
       "      <td>United-States</td>\n",
       "      <td>&lt;=50K</td>\n",
       "    </tr>\n",
       "    <tr>\n",
       "      <td>2</td>\n",
       "      <td>38</td>\n",
       "      <td>Private</td>\n",
       "      <td>215646</td>\n",
       "      <td>HS-grad</td>\n",
       "      <td>9</td>\n",
       "      <td>Divorced</td>\n",
       "      <td>Handlers-cleaners</td>\n",
       "      <td>Not-in-family</td>\n",
       "      <td>White</td>\n",
       "      <td>Male</td>\n",
       "      <td>0</td>\n",
       "      <td>0</td>\n",
       "      <td>40</td>\n",
       "      <td>United-States</td>\n",
       "      <td>&lt;=50K</td>\n",
       "    </tr>\n",
       "    <tr>\n",
       "      <td>3</td>\n",
       "      <td>53</td>\n",
       "      <td>Private</td>\n",
       "      <td>234721</td>\n",
       "      <td>11th</td>\n",
       "      <td>7</td>\n",
       "      <td>Married-civ-spouse</td>\n",
       "      <td>Handlers-cleaners</td>\n",
       "      <td>Husband</td>\n",
       "      <td>Black</td>\n",
       "      <td>Male</td>\n",
       "      <td>0</td>\n",
       "      <td>0</td>\n",
       "      <td>40</td>\n",
       "      <td>United-States</td>\n",
       "      <td>&lt;=50K</td>\n",
       "    </tr>\n",
       "    <tr>\n",
       "      <td>4</td>\n",
       "      <td>28</td>\n",
       "      <td>Private</td>\n",
       "      <td>338409</td>\n",
       "      <td>Bachelors</td>\n",
       "      <td>13</td>\n",
       "      <td>Married-civ-spouse</td>\n",
       "      <td>Prof-specialty</td>\n",
       "      <td>Wife</td>\n",
       "      <td>Black</td>\n",
       "      <td>Female</td>\n",
       "      <td>0</td>\n",
       "      <td>0</td>\n",
       "      <td>40</td>\n",
       "      <td>Cuba</td>\n",
       "      <td>&lt;=50K</td>\n",
       "    </tr>\n",
       "  </tbody>\n",
       "</table>\n",
       "</div>"
      ],
      "text/plain": [
       "   age          workclass  fnlwgt   education  education-num  \\\n",
       "0   39          State-gov   77516   Bachelors             13   \n",
       "1   50   Self-emp-not-inc   83311   Bachelors             13   \n",
       "2   38            Private  215646     HS-grad              9   \n",
       "3   53            Private  234721        11th              7   \n",
       "4   28            Private  338409   Bachelors             13   \n",
       "\n",
       "        marital_Status          occupation    relationship    race      sex  \\\n",
       "0        Never-married        Adm-clerical   Not-in-family   White     Male   \n",
       "1   Married-civ-spouse     Exec-managerial         Husband   White     Male   \n",
       "2             Divorced   Handlers-cleaners   Not-in-family   White     Male   \n",
       "3   Married-civ-spouse   Handlers-cleaners         Husband   Black     Male   \n",
       "4   Married-civ-spouse      Prof-specialty            Wife   Black   Female   \n",
       "\n",
       "   capital_gain  capital_loss  hours_per_week  native_country  Income  \n",
       "0          2174             0              40   United-States   <=50K  \n",
       "1             0             0              13   United-States   <=50K  \n",
       "2             0             0              40   United-States   <=50K  \n",
       "3             0             0              40   United-States   <=50K  \n",
       "4             0             0              40            Cuba   <=50K  "
      ]
     },
     "execution_count": 4,
     "metadata": {},
     "output_type": "execute_result"
    }
   ],
   "source": [
    "data = pd.read_csv('adult.data', sep=',', header=None)\n",
    "data.columns=['age','workclass','fnlwgt','education','education-num','marital_Status','occupation','relationship','race','sex','capital_gain','capital_loss','hours_per_week','native_country','Income'] \n",
    "data.head()"
   ]
  },
  {
   "cell_type": "markdown",
   "metadata": {},
   "source": [
    "### There are no missing values in our dataset"
   ]
  },
  {
   "cell_type": "code",
   "execution_count": 5,
   "metadata": {},
   "outputs": [
    {
     "name": "stdout",
     "output_type": "stream",
     "text": [
      "<class 'pandas.core.frame.DataFrame'>\n",
      "RangeIndex: 32561 entries, 0 to 32560\n",
      "Data columns (total 15 columns):\n",
      "age               32561 non-null int64\n",
      "workclass         32561 non-null object\n",
      "fnlwgt            32561 non-null int64\n",
      "education         32561 non-null object\n",
      "education-num     32561 non-null int64\n",
      "marital_Status    32561 non-null object\n",
      "occupation        32561 non-null object\n",
      "relationship      32561 non-null object\n",
      "race              32561 non-null object\n",
      "sex               32561 non-null object\n",
      "capital_gain      32561 non-null int64\n",
      "capital_loss      32561 non-null int64\n",
      "hours_per_week    32561 non-null int64\n",
      "native_country    32561 non-null object\n",
      "Income            32561 non-null object\n",
      "dtypes: int64(6), object(9)\n",
      "memory usage: 3.7+ MB\n"
     ]
    }
   ],
   "source": [
    "data.info()"
   ]
  },
  {
   "cell_type": "markdown",
   "metadata": {},
   "source": [
    "### Target variable: 'income'"
   ]
  },
  {
   "cell_type": "code",
   "execution_count": 6,
   "metadata": {},
   "outputs": [
    {
     "data": {
      "text/plain": [
       " <=50K    24720\n",
       " >50K      7841\n",
       "Name: Income, dtype: int64"
      ]
     },
     "execution_count": 6,
     "metadata": {},
     "output_type": "execute_result"
    }
   ],
   "source": [
    "data['Income'].value_counts()"
   ]
  },
  {
   "cell_type": "code",
   "execution_count": 7,
   "metadata": {},
   "outputs": [
    {
     "data": {
      "text/plain": [
       "(array([0, 1]), array([24720,  7841], dtype=int64))"
      ]
     },
     "execution_count": 7,
     "metadata": {},
     "output_type": "execute_result"
    }
   ],
   "source": [
    "# label encode the target\n",
    "from sklearn.preprocessing import LabelEncoder, OneHotEncoder\n",
    "le = LabelEncoder()\n",
    "np.unique(le.fit_transform(data[\"Income\"]), return_counts=True)"
   ]
  },
  {
   "cell_type": "code",
   "execution_count": 8,
   "metadata": {},
   "outputs": [
    {
     "data": {
      "text/plain": [
       "0    24720\n",
       "1     7841\n",
       "Name: Income, dtype: int64"
      ]
     },
     "execution_count": 8,
     "metadata": {},
     "output_type": "execute_result"
    }
   ],
   "source": [
    "data['Income'] = le.fit_transform(data['Income'])\n",
    "data['Income'].value_counts()"
   ]
  },
  {
   "cell_type": "code",
   "execution_count": 9,
   "metadata": {},
   "outputs": [
    {
     "data": {
      "text/plain": [
       "['workclass',\n",
       " 'education',\n",
       " 'marital_Status',\n",
       " 'occupation',\n",
       " 'relationship',\n",
       " 'race',\n",
       " 'sex',\n",
       " 'native_country']"
      ]
     },
     "execution_count": 9,
     "metadata": {},
     "output_type": "execute_result"
    }
   ],
   "source": [
    "# apply one hot encoding of categorical features\n",
    "cat_features = data.select_dtypes(include='object').columns.tolist()\n",
    "cat_features"
   ]
  },
  {
   "cell_type": "code",
   "execution_count": 10,
   "metadata": {},
   "outputs": [],
   "source": [
    "for col in cat_features:\n",
    "    data[col] = pd.get_dummies(data[col], drop_first=True)"
   ]
  },
  {
   "cell_type": "code",
   "execution_count": 11,
   "metadata": {},
   "outputs": [
    {
     "data": {
      "text/html": [
       "<div>\n",
       "<style scoped>\n",
       "    .dataframe tbody tr th:only-of-type {\n",
       "        vertical-align: middle;\n",
       "    }\n",
       "\n",
       "    .dataframe tbody tr th {\n",
       "        vertical-align: top;\n",
       "    }\n",
       "\n",
       "    .dataframe thead th {\n",
       "        text-align: right;\n",
       "    }\n",
       "</style>\n",
       "<table border=\"1\" class=\"dataframe\">\n",
       "  <thead>\n",
       "    <tr style=\"text-align: right;\">\n",
       "      <th></th>\n",
       "      <th>age</th>\n",
       "      <th>workclass</th>\n",
       "      <th>fnlwgt</th>\n",
       "      <th>education</th>\n",
       "      <th>education-num</th>\n",
       "      <th>marital_Status</th>\n",
       "      <th>occupation</th>\n",
       "      <th>relationship</th>\n",
       "      <th>race</th>\n",
       "      <th>sex</th>\n",
       "      <th>capital_gain</th>\n",
       "      <th>capital_loss</th>\n",
       "      <th>hours_per_week</th>\n",
       "      <th>native_country</th>\n",
       "      <th>Income</th>\n",
       "    </tr>\n",
       "  </thead>\n",
       "  <tbody>\n",
       "    <tr>\n",
       "      <td>0</td>\n",
       "      <td>39</td>\n",
       "      <td>0</td>\n",
       "      <td>77516</td>\n",
       "      <td>0</td>\n",
       "      <td>13</td>\n",
       "      <td>0</td>\n",
       "      <td>1</td>\n",
       "      <td>1</td>\n",
       "      <td>0</td>\n",
       "      <td>1</td>\n",
       "      <td>2174</td>\n",
       "      <td>0</td>\n",
       "      <td>40</td>\n",
       "      <td>0</td>\n",
       "      <td>0</td>\n",
       "    </tr>\n",
       "    <tr>\n",
       "      <td>1</td>\n",
       "      <td>50</td>\n",
       "      <td>0</td>\n",
       "      <td>83311</td>\n",
       "      <td>0</td>\n",
       "      <td>13</td>\n",
       "      <td>0</td>\n",
       "      <td>0</td>\n",
       "      <td>0</td>\n",
       "      <td>0</td>\n",
       "      <td>1</td>\n",
       "      <td>0</td>\n",
       "      <td>0</td>\n",
       "      <td>13</td>\n",
       "      <td>0</td>\n",
       "      <td>0</td>\n",
       "    </tr>\n",
       "    <tr>\n",
       "      <td>2</td>\n",
       "      <td>38</td>\n",
       "      <td>0</td>\n",
       "      <td>215646</td>\n",
       "      <td>0</td>\n",
       "      <td>9</td>\n",
       "      <td>0</td>\n",
       "      <td>0</td>\n",
       "      <td>1</td>\n",
       "      <td>0</td>\n",
       "      <td>1</td>\n",
       "      <td>0</td>\n",
       "      <td>0</td>\n",
       "      <td>40</td>\n",
       "      <td>0</td>\n",
       "      <td>0</td>\n",
       "    </tr>\n",
       "    <tr>\n",
       "      <td>3</td>\n",
       "      <td>53</td>\n",
       "      <td>0</td>\n",
       "      <td>234721</td>\n",
       "      <td>1</td>\n",
       "      <td>7</td>\n",
       "      <td>0</td>\n",
       "      <td>0</td>\n",
       "      <td>0</td>\n",
       "      <td>0</td>\n",
       "      <td>1</td>\n",
       "      <td>0</td>\n",
       "      <td>0</td>\n",
       "      <td>40</td>\n",
       "      <td>0</td>\n",
       "      <td>0</td>\n",
       "    </tr>\n",
       "    <tr>\n",
       "      <td>4</td>\n",
       "      <td>28</td>\n",
       "      <td>0</td>\n",
       "      <td>338409</td>\n",
       "      <td>0</td>\n",
       "      <td>13</td>\n",
       "      <td>0</td>\n",
       "      <td>0</td>\n",
       "      <td>0</td>\n",
       "      <td>0</td>\n",
       "      <td>0</td>\n",
       "      <td>0</td>\n",
       "      <td>0</td>\n",
       "      <td>40</td>\n",
       "      <td>0</td>\n",
       "      <td>0</td>\n",
       "    </tr>\n",
       "  </tbody>\n",
       "</table>\n",
       "</div>"
      ],
      "text/plain": [
       "   age  workclass  fnlwgt  education  education-num  marital_Status  \\\n",
       "0   39          0   77516          0             13               0   \n",
       "1   50          0   83311          0             13               0   \n",
       "2   38          0  215646          0              9               0   \n",
       "3   53          0  234721          1              7               0   \n",
       "4   28          0  338409          0             13               0   \n",
       "\n",
       "   occupation  relationship  race  sex  capital_gain  capital_loss  \\\n",
       "0           1             1     0    1          2174             0   \n",
       "1           0             0     0    1             0             0   \n",
       "2           0             1     0    1             0             0   \n",
       "3           0             0     0    1             0             0   \n",
       "4           0             0     0    0             0             0   \n",
       "\n",
       "   hours_per_week  native_country  Income  \n",
       "0              40               0       0  \n",
       "1              13               0       0  \n",
       "2              40               0       0  \n",
       "3              40               0       0  \n",
       "4              40               0       0  "
      ]
     },
     "execution_count": 11,
     "metadata": {},
     "output_type": "execute_result"
    }
   ],
   "source": [
    "data.head()"
   ]
  },
  {
   "cell_type": "code",
   "execution_count": 12,
   "metadata": {},
   "outputs": [
    {
     "data": {
      "text/plain": [
       "(array(['Income', 'age', 'capital_gain', 'capital_loss', 'education',\n",
       "        'education-num', 'fnlwgt', 'hours_per_week', 'marital_Status',\n",
       "        'native_country', 'occupation', 'race', 'relationship', 'sex',\n",
       "        'workclass'], dtype=object),\n",
       " array([14,  0, 10, 11,  3,  4,  2, 12,  5, 13,  6,  8,  7,  9,  1],\n",
       "       dtype=int64))"
      ]
     },
     "execution_count": 12,
     "metadata": {},
     "output_type": "execute_result"
    }
   ],
   "source": [
    "# check for any duplicate columns\n",
    "np.unique(data.columns, return_index=True)"
   ]
  },
  {
   "cell_type": "code",
   "execution_count": 13,
   "metadata": {},
   "outputs": [
    {
     "data": {
      "text/html": [
       "<div>\n",
       "<style scoped>\n",
       "    .dataframe tbody tr th:only-of-type {\n",
       "        vertical-align: middle;\n",
       "    }\n",
       "\n",
       "    .dataframe tbody tr th {\n",
       "        vertical-align: top;\n",
       "    }\n",
       "\n",
       "    .dataframe thead th {\n",
       "        text-align: right;\n",
       "    }\n",
       "</style>\n",
       "<table border=\"1\" class=\"dataframe\">\n",
       "  <thead>\n",
       "    <tr style=\"text-align: right;\">\n",
       "      <th></th>\n",
       "      <th>Income</th>\n",
       "      <th>age</th>\n",
       "      <th>capital_gain</th>\n",
       "      <th>capital_loss</th>\n",
       "      <th>education</th>\n",
       "      <th>education-num</th>\n",
       "      <th>fnlwgt</th>\n",
       "      <th>hours_per_week</th>\n",
       "      <th>marital_Status</th>\n",
       "      <th>native_country</th>\n",
       "      <th>occupation</th>\n",
       "      <th>race</th>\n",
       "      <th>relationship</th>\n",
       "      <th>sex</th>\n",
       "      <th>workclass</th>\n",
       "    </tr>\n",
       "  </thead>\n",
       "  <tbody>\n",
       "    <tr>\n",
       "      <td>0</td>\n",
       "      <td>0</td>\n",
       "      <td>39</td>\n",
       "      <td>2174</td>\n",
       "      <td>0</td>\n",
       "      <td>0</td>\n",
       "      <td>13</td>\n",
       "      <td>77516</td>\n",
       "      <td>40</td>\n",
       "      <td>0</td>\n",
       "      <td>0</td>\n",
       "      <td>1</td>\n",
       "      <td>0</td>\n",
       "      <td>1</td>\n",
       "      <td>1</td>\n",
       "      <td>0</td>\n",
       "    </tr>\n",
       "    <tr>\n",
       "      <td>1</td>\n",
       "      <td>0</td>\n",
       "      <td>50</td>\n",
       "      <td>0</td>\n",
       "      <td>0</td>\n",
       "      <td>0</td>\n",
       "      <td>13</td>\n",
       "      <td>83311</td>\n",
       "      <td>13</td>\n",
       "      <td>0</td>\n",
       "      <td>0</td>\n",
       "      <td>0</td>\n",
       "      <td>0</td>\n",
       "      <td>0</td>\n",
       "      <td>1</td>\n",
       "      <td>0</td>\n",
       "    </tr>\n",
       "    <tr>\n",
       "      <td>2</td>\n",
       "      <td>0</td>\n",
       "      <td>38</td>\n",
       "      <td>0</td>\n",
       "      <td>0</td>\n",
       "      <td>0</td>\n",
       "      <td>9</td>\n",
       "      <td>215646</td>\n",
       "      <td>40</td>\n",
       "      <td>0</td>\n",
       "      <td>0</td>\n",
       "      <td>0</td>\n",
       "      <td>0</td>\n",
       "      <td>1</td>\n",
       "      <td>1</td>\n",
       "      <td>0</td>\n",
       "    </tr>\n",
       "    <tr>\n",
       "      <td>3</td>\n",
       "      <td>0</td>\n",
       "      <td>53</td>\n",
       "      <td>0</td>\n",
       "      <td>0</td>\n",
       "      <td>1</td>\n",
       "      <td>7</td>\n",
       "      <td>234721</td>\n",
       "      <td>40</td>\n",
       "      <td>0</td>\n",
       "      <td>0</td>\n",
       "      <td>0</td>\n",
       "      <td>0</td>\n",
       "      <td>0</td>\n",
       "      <td>1</td>\n",
       "      <td>0</td>\n",
       "    </tr>\n",
       "    <tr>\n",
       "      <td>4</td>\n",
       "      <td>0</td>\n",
       "      <td>28</td>\n",
       "      <td>0</td>\n",
       "      <td>0</td>\n",
       "      <td>0</td>\n",
       "      <td>13</td>\n",
       "      <td>338409</td>\n",
       "      <td>40</td>\n",
       "      <td>0</td>\n",
       "      <td>0</td>\n",
       "      <td>0</td>\n",
       "      <td>0</td>\n",
       "      <td>0</td>\n",
       "      <td>0</td>\n",
       "      <td>0</td>\n",
       "    </tr>\n",
       "    <tr>\n",
       "      <td>...</td>\n",
       "      <td>...</td>\n",
       "      <td>...</td>\n",
       "      <td>...</td>\n",
       "      <td>...</td>\n",
       "      <td>...</td>\n",
       "      <td>...</td>\n",
       "      <td>...</td>\n",
       "      <td>...</td>\n",
       "      <td>...</td>\n",
       "      <td>...</td>\n",
       "      <td>...</td>\n",
       "      <td>...</td>\n",
       "      <td>...</td>\n",
       "      <td>...</td>\n",
       "      <td>...</td>\n",
       "    </tr>\n",
       "    <tr>\n",
       "      <td>32556</td>\n",
       "      <td>0</td>\n",
       "      <td>27</td>\n",
       "      <td>0</td>\n",
       "      <td>0</td>\n",
       "      <td>0</td>\n",
       "      <td>12</td>\n",
       "      <td>257302</td>\n",
       "      <td>38</td>\n",
       "      <td>0</td>\n",
       "      <td>0</td>\n",
       "      <td>0</td>\n",
       "      <td>0</td>\n",
       "      <td>0</td>\n",
       "      <td>0</td>\n",
       "      <td>0</td>\n",
       "    </tr>\n",
       "    <tr>\n",
       "      <td>32557</td>\n",
       "      <td>1</td>\n",
       "      <td>40</td>\n",
       "      <td>0</td>\n",
       "      <td>0</td>\n",
       "      <td>0</td>\n",
       "      <td>9</td>\n",
       "      <td>154374</td>\n",
       "      <td>40</td>\n",
       "      <td>0</td>\n",
       "      <td>0</td>\n",
       "      <td>0</td>\n",
       "      <td>0</td>\n",
       "      <td>0</td>\n",
       "      <td>1</td>\n",
       "      <td>0</td>\n",
       "    </tr>\n",
       "    <tr>\n",
       "      <td>32558</td>\n",
       "      <td>0</td>\n",
       "      <td>58</td>\n",
       "      <td>0</td>\n",
       "      <td>0</td>\n",
       "      <td>0</td>\n",
       "      <td>9</td>\n",
       "      <td>151910</td>\n",
       "      <td>40</td>\n",
       "      <td>0</td>\n",
       "      <td>0</td>\n",
       "      <td>1</td>\n",
       "      <td>0</td>\n",
       "      <td>0</td>\n",
       "      <td>0</td>\n",
       "      <td>0</td>\n",
       "    </tr>\n",
       "    <tr>\n",
       "      <td>32559</td>\n",
       "      <td>0</td>\n",
       "      <td>22</td>\n",
       "      <td>0</td>\n",
       "      <td>0</td>\n",
       "      <td>0</td>\n",
       "      <td>9</td>\n",
       "      <td>201490</td>\n",
       "      <td>20</td>\n",
       "      <td>0</td>\n",
       "      <td>0</td>\n",
       "      <td>1</td>\n",
       "      <td>0</td>\n",
       "      <td>0</td>\n",
       "      <td>1</td>\n",
       "      <td>0</td>\n",
       "    </tr>\n",
       "    <tr>\n",
       "      <td>32560</td>\n",
       "      <td>1</td>\n",
       "      <td>52</td>\n",
       "      <td>15024</td>\n",
       "      <td>0</td>\n",
       "      <td>0</td>\n",
       "      <td>9</td>\n",
       "      <td>287927</td>\n",
       "      <td>40</td>\n",
       "      <td>0</td>\n",
       "      <td>0</td>\n",
       "      <td>0</td>\n",
       "      <td>0</td>\n",
       "      <td>0</td>\n",
       "      <td>0</td>\n",
       "      <td>0</td>\n",
       "    </tr>\n",
       "  </tbody>\n",
       "</table>\n",
       "<p>32561 rows × 15 columns</p>\n",
       "</div>"
      ],
      "text/plain": [
       "       Income  age  capital_gain  capital_loss  education  education-num  \\\n",
       "0           0   39          2174             0          0             13   \n",
       "1           0   50             0             0          0             13   \n",
       "2           0   38             0             0          0              9   \n",
       "3           0   53             0             0          1              7   \n",
       "4           0   28             0             0          0             13   \n",
       "...       ...  ...           ...           ...        ...            ...   \n",
       "32556       0   27             0             0          0             12   \n",
       "32557       1   40             0             0          0              9   \n",
       "32558       0   58             0             0          0              9   \n",
       "32559       0   22             0             0          0              9   \n",
       "32560       1   52         15024             0          0              9   \n",
       "\n",
       "       fnlwgt  hours_per_week  marital_Status  native_country  occupation  \\\n",
       "0       77516              40               0               0           1   \n",
       "1       83311              13               0               0           0   \n",
       "2      215646              40               0               0           0   \n",
       "3      234721              40               0               0           0   \n",
       "4      338409              40               0               0           0   \n",
       "...       ...             ...             ...             ...         ...   \n",
       "32556  257302              38               0               0           0   \n",
       "32557  154374              40               0               0           0   \n",
       "32558  151910              40               0               0           1   \n",
       "32559  201490              20               0               0           1   \n",
       "32560  287927              40               0               0           0   \n",
       "\n",
       "       race  relationship  sex  workclass  \n",
       "0         0             1    1          0  \n",
       "1         0             0    1          0  \n",
       "2         0             1    1          0  \n",
       "3         0             0    1          0  \n",
       "4         0             0    0          0  \n",
       "...     ...           ...  ...        ...  \n",
       "32556     0             0    0          0  \n",
       "32557     0             0    1          0  \n",
       "32558     0             0    0          0  \n",
       "32559     0             0    1          0  \n",
       "32560     0             0    0          0  \n",
       "\n",
       "[32561 rows x 15 columns]"
      ]
     },
     "execution_count": 13,
     "metadata": {},
     "output_type": "execute_result"
    }
   ],
   "source": [
    "_, i = np.unique(data.columns, return_index=True)\n",
    "data.iloc[:, i]"
   ]
  },
  {
   "cell_type": "code",
   "execution_count": 14,
   "metadata": {},
   "outputs": [],
   "source": [
    "# split into features X and target y\n",
    "X = data.drop('Income', axis=1)\n",
    "y = data['Income']"
   ]
  },
  {
   "cell_type": "code",
   "execution_count": 15,
   "metadata": {},
   "outputs": [],
   "source": [
    "# split into train, test sets\n",
    "from sklearn.model_selection import train_test_split\n",
    "X_train, X_test, y_train, y_test = train_test_split(X, y, test_size=0.3)"
   ]
  },
  {
   "cell_type": "markdown",
   "metadata": {},
   "source": [
    "### Xgboost"
   ]
  },
  {
   "cell_type": "code",
   "execution_count": 16,
   "metadata": {},
   "outputs": [],
   "source": [
    "import xgboost as xgb\n",
    "\n",
    "# data for XGBoost to be stored in a DMatrix object\n",
    "xgb_dtrain = xgb.DMatrix(X_train, label=y_train)\n",
    "xgb_dtest = xgb.DMatrix(X_test)"
   ]
  },
  {
   "cell_type": "code",
   "execution_count": 21,
   "metadata": {},
   "outputs": [],
   "source": [
    "# parameters for xgboost\n",
    "params = {'max_depth': 7, \n",
    "          'objective': 'binary:logistic',\n",
    "          'eval_metric': 'auc',\n",
    "          'learning_rate': 0.05\n",
    "             }"
   ]
  },
  {
   "cell_type": "code",
   "execution_count": 22,
   "metadata": {},
   "outputs": [
    {
     "name": "stdout",
     "output_type": "stream",
     "text": [
      "Execution time:  0:00:00.402971\n"
     ]
    }
   ],
   "source": [
    "# train the model\n",
    "import datetime\n",
    "from datetime import datetime\n",
    "start = datetime.now()\n",
    "\n",
    "num_round =50\n",
    "xgb_model = xgb.train(params, xgb_dtrain, num_round)\n",
    "stop = datetime.now()\n",
    "print('Execution time: ', stop-start)"
   ]
  },
  {
   "cell_type": "code",
   "execution_count": 23,
   "metadata": {},
   "outputs": [
    {
     "data": {
      "text/plain": [
       "array([0.17193924, 0.9225288 , 0.4774333 , ..., 0.14233577, 0.2703619 ,\n",
       "       0.04240749], dtype=float32)"
      ]
     },
     "execution_count": 23,
     "metadata": {},
     "output_type": "execute_result"
    }
   ],
   "source": [
    "# prediction\n",
    "y_pred = xgb_model.predict(xgb_dtest)\n",
    "y_pred"
   ]
  },
  {
   "cell_type": "code",
   "execution_count": 24,
   "metadata": {},
   "outputs": [
    {
     "data": {
      "image/png": "[encoded data removed]",
      "text/plain": [
       "<Figure size 432x288 with 1 Axes>"
      ]
     },
     "metadata": {
      "needs_background": "light"
     },
     "output_type": "display_data"
    }
   ],
   "source": [
    "import matplotlib.pyplot as plt\n",
    "%matplotlib inline\n",
    "\n",
    "plt.hist(y_pred)\n",
    "plt.show()"
   ]
  },
  {
   "cell_type": "code",
   "execution_count": 25,
   "metadata": {},
   "outputs": [
    {
     "data": {
      "text/plain": [
       "9769"
      ]
     },
     "execution_count": 25,
     "metadata": {},
     "output_type": "execute_result"
    }
   ],
   "source": [
    "len(y_pred)"
   ]
  },
  {
   "cell_type": "code",
   "execution_count": 26,
   "metadata": {},
   "outputs": [],
   "source": [
    "# setting threshold to 0.5\n",
    "for i in range(9769):\n",
    "    if y_pred[i] > 0.5:\n",
    "        y_pred[i] = 1\n",
    "    else:\n",
    "        y_pred[i]= 0"
   ]
  },
  {
   "cell_type": "code",
   "execution_count": 27,
   "metadata": {},
   "outputs": [
    {
     "data": {
      "text/plain": [
       "(array([0., 1.], dtype=float32), array([8264, 1505], dtype=int64))"
      ]
     },
     "execution_count": 27,
     "metadata": {},
     "output_type": "execute_result"
    }
   ],
   "source": [
    "np.unique(y_pred, return_counts=True)"
   ]
  },
  {
   "cell_type": "code",
   "execution_count": 29,
   "metadata": {},
   "outputs": [
    {
     "name": "stdout",
     "output_type": "stream",
     "text": [
      "0.7366697483399888\n",
      "Classification report\n",
      "               precision    recall  f1-score   support\n",
      "\n",
      "           0       0.86      0.96      0.91      7431\n",
      "           1       0.80      0.51      0.63      2338\n",
      "\n",
      "    accuracy                           0.85      9769\n",
      "   macro avg       0.83      0.74      0.77      9769\n",
      "weighted avg       0.85      0.85      0.84      9769\n",
      "\n"
     ]
    }
   ],
   "source": [
    "from sklearn.metrics import roc_auc_score, classification_report\n",
    "aucscore = roc_auc_score(y_test, y_pred)\n",
    "print(aucscore)\n",
    "print('Classification report\\n',classification_report(y_test, y_pred))"
   ]
  },
  {
   "cell_type": "markdown",
   "metadata": {},
   "source": [
    "### Using multiple scoring metrics with 'GridSearchCV' - Test 1"
   ]
  },
  {
   "cell_type": "code",
   "execution_count": 30,
   "metadata": {},
   "outputs": [],
   "source": [
    "from sklearn.metrics import make_scorer\n",
    "from sklearn.metrics import accuracy_score, precision_score, recall_score, f1_score, roc_auc_score\n",
    "scoring1 = {'accuracy': make_scorer(accuracy_score),\n",
    "           'precision': make_scorer(precision_score),\n",
    "           'recall': make_scorer(recall_score),\n",
    "           'f1': make_scorer(f1_score),\n",
    "           'roc_auc': make_scorer(roc_auc_score)\n",
    "          }"
   ]
  },
  {
   "cell_type": "code",
   "execution_count": 31,
   "metadata": {},
   "outputs": [],
   "source": [
    "from sklearn.model_selection import GridSearchCV, RandomizedSearchCV, cross_validate, StratifiedKFold"
   ]
  },
  {
   "cell_type": "markdown",
   "metadata": {},
   "source": [
    "### Using multiple scoring metrics with 'GridSearchCV' - Test 2"
   ]
  },
  {
   "cell_type": "code",
   "execution_count": 32,
   "metadata": {},
   "outputs": [],
   "source": [
    "# you can use the above or simply use the below for multiple scoring\n",
    "scoring2 = ['accuracy', 'precision', 'recall', 'f1', 'roc_auc']"
   ]
  },
  {
   "cell_type": "markdown",
   "metadata": {},
   "source": [
    "### Important to note:\n",
    "- 'accuracy' is the scoring metric\n",
    "- 'accuracy_score' is the function that computes accuracy\n",
    "- same applies for precision_score, recall_score, etc\n",
    "- Ref link: https://scikit-learn.org/stable/modules/model_evaluation.html#implementing-your-own-scoring-object\n",
    "\n",
    "- GridSearchCV expects parameters to be in a sequence:\n",
    "    - The parameters 'param' need to be mentioned as a sequence and not as as string:\n",
    "        - Example: max_depth: ['7'] instead of max_depth: '7'\n",
    "        - Else you will get ValueError: Parameter values for parameter (max_depth) need to be a sequence(but not a string) or np.ndarray\n",
    " \n",
    "- GridSearchCV for Xgboost:\n",
    "    - it expects the model to use a '.fit()' method, which is not supported in the base xgboost model, xgboost=XGBoost()\n",
    "   - to use GridSearch, we need to use either:\n",
    "       - XGBoostClassifier()\n",
    "       - XGBoostRegressor()"
   ]
  },
  {
   "cell_type": "code",
   "execution_count": 39,
   "metadata": {},
   "outputs": [],
   "source": [
    "# parameters for xgboost\n",
    "params = {'max_depth': [7], \n",
    "          'objective': ['binary:logistic'],\n",
    "          'eval_metric': ['auc'],\n",
    "          'learning_rate': [0.05]\n",
    "             }"
   ]
  },
  {
   "cell_type": "code",
   "execution_count": 43,
   "metadata": {},
   "outputs": [
    {
     "name": "stdout",
     "output_type": "stream",
     "text": [
      "Fitting 5 folds for each of 1 candidates, totalling 5 fits\n"
     ]
    },
    {
     "name": "stderr",
     "output_type": "stream",
     "text": [
      "[Parallel(n_jobs=4)]: Using backend LokyBackend with 4 concurrent workers.\n",
      "[Parallel(n_jobs=4)]: Done   5 out of   5 | elapsed:   11.9s finished\n"
     ]
    },
    {
     "data": {
      "text/plain": [
       "GridSearchCV(cv=StratifiedKFold(n_splits=5, random_state=None, shuffle=True),\n",
       "             error_score='raise-deprecating',\n",
       "             estimator=XGBClassifier(base_score=0.5, booster='gbtree',\n",
       "                                     colsample_bylevel=1, colsample_bynode=1,\n",
       "                                     colsample_bytree=1, gamma=0,\n",
       "                                     learning_rate=0.1, max_delta_step=0,\n",
       "                                     max_depth=3, min_child_weight=1,\n",
       "                                     missing=None, n_estimators=100, n_jobs=1,\n",
       "                                     nthread=None, obj...\n",
       "                                     random_state=0, reg_alpha=0, reg_lambda=1,\n",
       "                                     scale_pos_weight=1, seed=None, silent=None,\n",
       "                                     subsample=1, verbosity=1),\n",
       "             iid='warn', n_jobs=4,\n",
       "             param_grid={'eval_metric': ['auc'], 'learning_rate': [0.05],\n",
       "                         'max_depth': [7], 'objective': ['binary:logistic']},\n",
       "             pre_dispatch='2*n_jobs', refit='roc_auc', return_train_score=True,\n",
       "             scoring=['accuracy', 'precision', 'recall', 'f1', 'roc_auc'],\n",
       "             verbose=1)"
      ]
     },
     "execution_count": 43,
     "metadata": {},
     "output_type": "execute_result"
    }
   ],
   "source": [
    "# using GridSearchCV\n",
    "\n",
    "# need to use 'XGBClassifier', if you need to use in GridSearchCV as the 'fit' method can apply to this model\n",
    "from xgboost import XGBClassifier\n",
    "\n",
    "grid = GridSearchCV(XGBClassifier(), params, n_jobs=4,\n",
    "             cv = StratifiedKFold(n_splits=5, shuffle=True),\n",
    "             scoring= scoring2,\n",
    "             refit='roc_auc',  # either set refit to False when using multiple scoring metrics\n",
    "             verbose=1,\n",
    "             return_train_score=True)\n",
    "\n",
    "# grid = GridSearchCV(xgb.XGBClassifier(), params, n_jobs=4,\n",
    "#              cv = StratifiedKFold(n_splits=5, shuffle=True),\n",
    "#              scoring= 'f1',\n",
    "#              refit=True,  # either set refit to False when using multiple scoring metrics\n",
    "#              verbose=1,\n",
    "#              return_train_score=True)\n",
    "\n",
    "grid.fit(X, y)"
   ]
  },
  {
   "cell_type": "code",
   "execution_count": 45,
   "metadata": {},
   "outputs": [
    {
     "name": "stdout",
     "output_type": "stream",
     "text": [
      "Best score for scoring metric: roc_auc is 0.8989994586371866\n"
     ]
    },
    {
     "data": {
      "text/plain": [
       "{'mean_fit_time': array([2.53471146]),\n",
       " 'std_fit_time': array([0.24501906]),\n",
       " 'mean_score_time': array([0.17540455]),\n",
       " 'std_score_time': array([0.01714134]),\n",
       " 'param_eval_metric': masked_array(data=['auc'],\n",
       "              mask=[False],\n",
       "        fill_value='?',\n",
       "             dtype=object),\n",
       " 'param_learning_rate': masked_array(data=[0.05],\n",
       "              mask=[False],\n",
       "        fill_value='?',\n",
       "             dtype=object),\n",
       " 'param_max_depth': masked_array(data=[7],\n",
       "              mask=[False],\n",
       "        fill_value='?',\n",
       "             dtype=object),\n",
       " 'param_objective': masked_array(data=['binary:logistic'],\n",
       "              mask=[False],\n",
       "        fill_value='?',\n",
       "             dtype=object),\n",
       " 'params': [{'eval_metric': 'auc',\n",
       "   'learning_rate': 0.05,\n",
       "   'max_depth': 7,\n",
       "   'objective': 'binary:logistic'}],\n",
       " 'split0_test_accuracy': array([0.85644096]),\n",
       " 'split1_test_accuracy': array([0.85749386]),\n",
       " 'split2_test_accuracy': array([0.85565111]),\n",
       " 'split3_test_accuracy': array([0.85687961]),\n",
       " 'split4_test_accuracy': array([0.85165848]),\n",
       " 'mean_test_accuracy': array([0.85562483]),\n",
       " 'std_test_accuracy': array([0.002072]),\n",
       " 'rank_test_accuracy': array([1]),\n",
       " 'split0_train_accuracy': array([0.86259982]),\n",
       " 'split1_train_accuracy': array([0.86314254]),\n",
       " 'split2_train_accuracy': array([0.86325771]),\n",
       " 'split3_train_accuracy': array([0.86099274]),\n",
       " 'split4_train_accuracy': array([0.86387193]),\n",
       " 'mean_train_accuracy': array([0.86277295]),\n",
       " 'std_train_accuracy': array([0.00097759]),\n",
       " 'split0_test_precision': array([0.79737336]),\n",
       " 'split1_test_precision': array([0.80592734]),\n",
       " 'split2_test_precision': array([0.77935943]),\n",
       " 'split3_test_precision': array([0.82056452]),\n",
       " 'split4_test_precision': array([0.78503788]),\n",
       " 'mean_test_precision': array([0.7976525]),\n",
       " 'std_test_precision': array([0.01474614]),\n",
       " 'rank_test_precision': array([1]),\n",
       " 'split0_train_precision': array([0.8126306]),\n",
       " 'split1_train_precision': array([0.81313599]),\n",
       " 'split2_train_precision': array([0.81811781]),\n",
       " 'split3_train_precision': array([0.82294204]),\n",
       " 'split4_train_precision': array([0.82105015]),\n",
       " 'mean_train_precision': array([0.81757532]),\n",
       " 'std_train_precision': array([0.00413106]),\n",
       " 'split0_test_recall': array([0.54174634]),\n",
       " 'split1_test_recall': array([0.53762755]),\n",
       " 'split2_test_recall': array([0.55867347]),\n",
       " 'split3_test_recall': array([0.51913265]),\n",
       " 'split4_test_recall': array([0.52869898]),\n",
       " 'mean_test_recall': array([0.53717594]),\n",
       " 'std_test_recall': array([0.01327126]),\n",
       " 'rank_test_recall': array([1]),\n",
       " 'split0_train_recall': array([0.55803571]),\n",
       " 'split1_train_recall': array([0.56049737]),\n",
       " 'split2_train_recall': array([0.55571497]),\n",
       " 'split3_train_recall': array([0.53865774]),\n",
       " 'split4_train_recall': array([0.55587438]),\n",
       " 'mean_train_recall': array([0.55375603]),\n",
       " 'std_train_recall': array([0.00774654]),\n",
       " 'split0_test_f1': array([0.64516129]),\n",
       " 'split1_test_f1': array([0.64498852]),\n",
       " 'split2_test_f1': array([0.65081724]),\n",
       " 'split3_test_f1': array([0.6359375]),\n",
       " 'split4_test_f1': array([0.63185976]),\n",
       " 'mean_test_f1': array([0.64175297]),\n",
       " 'std_test_f1': array([0.0068693]),\n",
       " 'rank_test_f1': array([1]),\n",
       " 'split0_train_f1': array([0.66168825]),\n",
       " 'split1_train_f1': array([0.66358403]),\n",
       " 'split2_train_f1': array([0.66185684]),\n",
       " 'split3_train_f1': array([0.65112246]),\n",
       " 'split4_train_f1': array([0.66292776]),\n",
       " 'mean_train_f1': array([0.66023587]),\n",
       " 'std_train_f1': array([0.00460972]),\n",
       " 'split0_test_roc_auc': array([0.90027569]),\n",
       " 'split1_test_roc_auc': array([0.89963632]),\n",
       " 'split2_test_roc_auc': array([0.89749886]),\n",
       " 'split3_test_roc_auc': array([0.89987432]),\n",
       " 'split4_test_roc_auc': array([0.8977119]),\n",
       " 'mean_test_roc_auc': array([0.89899946]),\n",
       " 'std_test_roc_auc': array([0.0011584]),\n",
       " 'rank_test_roc_auc': array([1]),\n",
       " 'split0_train_roc_auc': array([0.91310727]),\n",
       " 'split1_train_roc_auc': array([0.91309272]),\n",
       " 'split2_train_roc_auc': array([0.91299204]),\n",
       " 'split3_train_roc_auc': array([0.91306231]),\n",
       " 'split4_train_roc_auc': array([0.91277145]),\n",
       " 'mean_train_roc_auc': array([0.91300516]),\n",
       " 'std_train_roc_auc': array([0.00012341])}"
      ]
     },
     "execution_count": 45,
     "metadata": {},
     "output_type": "execute_result"
    }
   ],
   "source": [
    "#best parameters\n",
    "# this return a dictionary for all the scoring metrics for train and test splits\n",
    "\n",
    "\n",
    "# when using a single evaluation metric, for a range of a hyper paramertes to tune\n",
    "#print(grid.best_params_)\n",
    "print('Best score for scoring metric: roc_auc is', grid.best_score_)\n",
    "\n",
    "\n",
    "# to see all the cross validation results for all scoring metrics\n",
    "grid.cv_results_"
   ]
  },
  {
   "cell_type": "markdown",
   "metadata": {},
   "source": [
    "### Filtering scores from the cross validated output"
   ]
  },
  {
   "cell_type": "code",
   "execution_count": 49,
   "metadata": {},
   "outputs": [
    {
     "name": "stdout",
     "output_type": "stream",
     "text": [
      "mean_fit_time [2.53471146]\n",
      "mean_score_time [0.17540455]\n",
      "mean_test_accuracy [0.85562483]\n",
      "mean_train_accuracy [0.86277295]\n",
      "mean_test_precision [0.7976525]\n",
      "mean_train_precision [0.81757532]\n",
      "mean_test_recall [0.53717594]\n",
      "mean_train_recall [0.55375603]\n",
      "mean_test_f1 [0.64175297]\n",
      "mean_train_f1 [0.66023587]\n",
      "mean_test_roc_auc [0.89899946]\n",
      "mean_train_roc_auc [0.91300516]\n"
     ]
    }
   ],
   "source": [
    "# for k, v in grid.cv_results_.items():\n",
    "#     print(k)\n",
    "# this is for the XGBClassifier() model\n",
    "    \n",
    "keys_scores = [k for k, v in grid.cv_results_.items()]\n",
    "keys_scores\n",
    "filtered_keys = [s for s in keys_scores if s.startswith('mean')]\n",
    "for k in filtered_keys:\n",
    "    print(k, grid.cv_results_[k])"
   ]
  },
  {
   "cell_type": "code",
   "execution_count": 51,
   "metadata": {},
   "outputs": [
    {
     "data": {
      "text/plain": [
       "0.7366697483399888"
      ]
     },
     "execution_count": 51,
     "metadata": {},
     "output_type": "execute_result"
    }
   ],
   "source": [
    "# for the base XGB model\n",
    "from sklearn.metrics import roc_auc_score\n",
    "roc_auc_score(y_test, y_pred)"
   ]
  },
  {
   "cell_type": "code",
   "execution_count": 47,
   "metadata": {},
   "outputs": [
    {
     "data": {
      "text/plain": [
       "array([[7128, 1136],\n",
       "       [ 303, 1202]], dtype=int64)"
      ]
     },
     "execution_count": 47,
     "metadata": {},
     "output_type": "execute_result"
    }
   ],
   "source": [
    "from sklearn.metrics import confusion_matrix\n",
    "confusion_matrix(y_pred, y_test)\n",
    "#plot_confusion_matrix(xgb, X, y)"
   ]
  },
  {
   "cell_type": "markdown",
   "metadata": {},
   "source": [
    "### Plot confusion matrix\n",
    "- Ref: http://rasbt.github.io/mlxtend/user_guide/plotting/plot_confusion_matrix/"
   ]
  },
  {
   "cell_type": "markdown",
   "metadata": {},
   "source": [
    "### Confusion matrix for the XGBoost model"
   ]
  },
  {
   "cell_type": "code",
   "execution_count": 48,
   "metadata": {},
   "outputs": [
    {
     "data": {
      "image/png": "[encoded data removed]",
      "text/plain": [
       "<Figure size 432x288 with 1 Axes>"
      ]
     },
     "metadata": {
      "needs_background": "light"
     },
     "output_type": "display_data"
    }
   ],
   "source": [
    "from mlxtend.plotting import plot_confusion_matrix\n",
    "plot_confusion_matrix(conf_mat=confusion_matrix(y_pred, y_test),\n",
    "                      show_absolute=True,\n",
    "                      show_normed=True)\n",
    "plt.show()"
   ]
  },
  {
   "cell_type": "markdown",
   "metadata": {},
   "source": [
    "### Scoring metrics supported in Sklearn"
   ]
  },
  {
   "cell_type": "code",
   "execution_count": 143,
   "metadata": {},
   "outputs": [
    {
     "data": {
      "text/plain": [
       "['explained_variance',\n",
       " 'r2',\n",
       " 'max_error',\n",
       " 'neg_median_absolute_error',\n",
       " 'neg_mean_absolute_error',\n",
       " 'neg_mean_squared_error',\n",
       " 'neg_mean_squared_log_error',\n",
       " 'accuracy',\n",
       " 'roc_auc',\n",
       " 'balanced_accuracy',\n",
       " 'average_precision',\n",
       " 'neg_log_loss',\n",
       " 'brier_score_loss',\n",
       " 'adjusted_rand_score',\n",
       " 'homogeneity_score',\n",
       " 'completeness_score',\n",
       " 'v_measure_score',\n",
       " 'mutual_info_score',\n",
       " 'adjusted_mutual_info_score',\n",
       " 'normalized_mutual_info_score',\n",
       " 'fowlkes_mallows_score',\n",
       " 'precision',\n",
       " 'precision_macro',\n",
       " 'precision_micro',\n",
       " 'precision_samples',\n",
       " 'precision_weighted',\n",
       " 'recall',\n",
       " 'recall_macro',\n",
       " 'recall_micro',\n",
       " 'recall_samples',\n",
       " 'recall_weighted',\n",
       " 'f1',\n",
       " 'f1_macro',\n",
       " 'f1_micro',\n",
       " 'f1_samples',\n",
       " 'f1_weighted',\n",
       " 'jaccard',\n",
       " 'jaccard_macro',\n",
       " 'jaccard_micro',\n",
       " 'jaccard_samples',\n",
       " 'jaccard_weighted']"
      ]
     },
     "execution_count": 143,
     "metadata": {},
     "output_type": "execute_result"
    }
   ],
   "source": [
    "import sklearn\n",
    "list(sklearn.metrics.SCORERS.keys())"
   ]
  },
  {
   "cell_type": "markdown",
   "metadata": {},
   "source": [
    "### 2. LightGBM model"
   ]
  },
  {
   "cell_type": "code",
   "execution_count": 96,
   "metadata": {},
   "outputs": [],
   "source": [
    "import lightgbm as lgb\n",
    "\n",
    "# create the dataset for the lgb model\n",
    "train_data = lgb.Dataset(X_train, label=y_train)\n",
    "test_data = lgb.Dataset(X_test)"
   ]
  },
  {
   "cell_type": "code",
   "execution_count": 97,
   "metadata": {},
   "outputs": [],
   "source": [
    "params = {'max_depth':7, \n",
    "          'num_leaves':150, \n",
    "          'learning_rate':0.05, \n",
    "          'objective':'binary', \n",
    "          'metric': ['binary_logloss', 'auc']\n",
    "         }"
   ]
  },
  {
   "cell_type": "markdown",
   "metadata": {},
   "source": [
    "### Note:\n",
    "- Do not change the order of parameters in lgb.train()\n",
    "- If you change the order, you will get an error: Dataset is not iterable"
   ]
  },
  {
   "cell_type": "code",
   "execution_count": 104,
   "metadata": {},
   "outputs": [
    {
     "name": "stdout",
     "output_type": "stream",
     "text": [
      "time take to train the model: 0:00:00.130999\n"
     ]
    }
   ],
   "source": [
    "# train the lgb model\n",
    "num_rounds=50\n",
    "start = datetime.now()\n",
    "lgbm = lgb.train(params, train_data, num_rounds)\n",
    "stop = datetime.now()\n",
    "lgbm_model_execution_time = stop-start\n",
    "print('time take to train the model:', lgbm_model_execution_time)"
   ]
  },
  {
   "cell_type": "code",
   "execution_count": 100,
   "metadata": {},
   "outputs": [
    {
     "data": {
      "image/png": "[encoded data removed]",
      "text/plain": [
       "<Figure size 432x288 with 1 Axes>"
      ]
     },
     "metadata": {
      "needs_background": "light"
     },
     "output_type": "display_data"
    }
   ],
   "source": [
    "# prediction\n",
    "y_pred = lgbm.predict(X_test)\n",
    "\n",
    "# plot our prediction to see the distribution\n",
    "\n",
    "plt.hist(y_pred)\n",
    "plt.show()"
   ]
  },
  {
   "cell_type": "code",
   "execution_count": 102,
   "metadata": {},
   "outputs": [
    {
     "name": "stdout",
     "output_type": "stream",
     "text": [
      "Distribution of values (array([0., 1.]), array([8327, 1442], dtype=int64))\n"
     ]
    }
   ],
   "source": [
    "# using a threshold of 0.5\n",
    "\n",
    "for i in range(9769):\n",
    "    if y_pred[i] > 0.5:\n",
    "        y_pred[i] = 1\n",
    "    else:\n",
    "        y_pred[i]= 0\n",
    "        \n",
    "print('Distribution of values', np.unique(y_pred, return_counts=True))"
   ]
  },
  {
   "cell_type": "code",
   "execution_count": 103,
   "metadata": {},
   "outputs": [
    {
     "name": "stdout",
     "output_type": "stream",
     "text": [
      "ROC_AUC score for the base lgbm model is:  0.7358481606485396\n"
     ]
    }
   ],
   "source": [
    "# metric : roc_auc_score\n",
    "print('ROC_AUC score for the base lgbm model is: ', roc_auc_score(y_test, y_pred))"
   ]
  },
  {
   "cell_type": "markdown",
   "metadata": {},
   "source": [
    "### Using GridSearchCV\n",
    "- here we cannot use it on the base lgb model as the fit method cannot be used\n",
    "- Instead we need to use it for:\n",
    "    - LGBMClassifier\n",
    "    - LGBMRegressor"
   ]
  },
  {
   "cell_type": "code",
   "execution_count": 127,
   "metadata": {},
   "outputs": [],
   "source": [
    "params = {'max_depth':[7], \n",
    "          'num_leaves':[150], \n",
    "          'learning_rate':[0.05],\n",
    "          }"
   ]
  },
  {
   "cell_type": "code",
   "execution_count": 128,
   "metadata": {},
   "outputs": [],
   "source": [
    "scoring2 = ['accuracy', 'precision', 'recall', 'f1', 'roc_auc']\t"
   ]
  },
  {
   "cell_type": "code",
   "execution_count": 129,
   "metadata": {},
   "outputs": [
    {
     "name": "stdout",
     "output_type": "stream",
     "text": [
      "Fitting 5 folds for each of 1 candidates, totalling 5 fits\n"
     ]
    },
    {
     "name": "stderr",
     "output_type": "stream",
     "text": [
      "[Parallel(n_jobs=1)]: Using backend SequentialBackend with 1 concurrent workers.\n"
     ]
    },
    {
     "name": "stdout",
     "output_type": "stream",
     "text": [
      "Time taken is  0:00:01.625499\n"
     ]
    },
    {
     "name": "stderr",
     "output_type": "stream",
     "text": [
      "[Parallel(n_jobs=1)]: Done   5 out of   5 | elapsed:    1.5s finished\n"
     ]
    }
   ],
   "source": [
    "import lightgbm as lgb\n",
    "\n",
    "grid = GridSearchCV(lgb.LGBMClassifier(), params, \n",
    "                    cv=5, scoring=scoring2,\n",
    "                    verbose=1,\n",
    "                    refit=False)\n",
    "start = datetime.now()\n",
    "grid.fit(X, y)\n",
    "print('Time taken is ', datetime.now() - start)"
   ]
  },
  {
   "cell_type": "code",
   "execution_count": 130,
   "metadata": {},
   "outputs": [
    {
     "data": {
      "text/plain": [
       "{'mean_fit_time': array([0.21799293]),\n",
       " 'std_fit_time': array([0.02437284]),\n",
       " 'mean_score_time': array([0.10310292]),\n",
       " 'std_score_time': array([0.01802908]),\n",
       " 'param_learning_rate': masked_array(data=[0.05],\n",
       "              mask=[False],\n",
       "        fill_value='?',\n",
       "             dtype=object),\n",
       " 'param_max_depth': masked_array(data=[7],\n",
       "              mask=[False],\n",
       "        fill_value='?',\n",
       "             dtype=object),\n",
       " 'param_num_leaves': masked_array(data=[150],\n",
       "              mask=[False],\n",
       "        fill_value='?',\n",
       "             dtype=object),\n",
       " 'params': [{'learning_rate': 0.05, 'max_depth': 7, 'num_leaves': 150}],\n",
       " 'split0_test_accuracy': array([0.85060648]),\n",
       " 'split1_test_accuracy': array([0.85472973]),\n",
       " 'split2_test_accuracy': array([0.85826167]),\n",
       " 'split3_test_accuracy': array([0.85887592]),\n",
       " 'split4_test_accuracy': array([0.85457617]),\n",
       " 'mean_test_accuracy': array([0.85540985]),\n",
       " 'std_test_accuracy': array([0.00297922]),\n",
       " 'rank_test_accuracy': array([1]),\n",
       " 'split0_test_precision': array([0.78489484]),\n",
       " 'split1_test_precision': array([0.80194175]),\n",
       " 'split2_test_precision': array([0.79888786]),\n",
       " 'split3_test_precision': array([0.81535471]),\n",
       " 'split4_test_precision': array([0.78201635]),\n",
       " 'mean_test_precision': array([0.79661874]),\n",
       " 'std_test_precision': array([0.01212599]),\n",
       " 'rank_test_precision': array([1]),\n",
       " 'split0_test_recall': array([0.52326322]),\n",
       " 'split1_test_recall': array([0.52678571]),\n",
       " 'split2_test_recall': array([0.5497449]),\n",
       " 'split3_test_recall': array([0.53507653]),\n",
       " 'split4_test_recall': array([0.54910714]),\n",
       " 'mean_test_recall': array([0.53679509]),\n",
       " 'std_test_recall': array([0.01100496]),\n",
       " 'rank_test_recall': array([1]),\n",
       " 'split0_test_f1': array([0.62791587]),\n",
       " 'split1_test_f1': array([0.63587375]),\n",
       " 'split2_test_f1': array([0.65130336]),\n",
       " 'split3_test_f1': array([0.64613015]),\n",
       " 'split4_test_f1': array([0.64518546]),\n",
       " 'mean_test_f1': array([0.64128131]),\n",
       " 'std_test_f1': array([0.00833173]),\n",
       " 'rank_test_f1': array([1]),\n",
       " 'split0_test_roc_auc': array([0.89423306]),\n",
       " 'split1_test_roc_auc': array([0.89618788]),\n",
       " 'split2_test_roc_auc': array([0.90306471]),\n",
       " 'split3_test_roc_auc': array([0.90062017]),\n",
       " 'split4_test_roc_auc': array([0.90325769]),\n",
       " 'mean_test_roc_auc': array([0.89947254]),\n",
       " 'std_test_roc_auc': array([0.0036549]),\n",
       " 'rank_test_roc_auc': array([1])}"
      ]
     },
     "execution_count": 130,
     "metadata": {},
     "output_type": "execute_result"
    }
   ],
   "source": [
    "grid.cv_results_"
   ]
  },
  {
   "cell_type": "code",
   "execution_count": 131,
   "metadata": {},
   "outputs": [
    {
     "name": "stdout",
     "output_type": "stream",
     "text": [
      "mean_fit_time [0.21799293]\n",
      "mean_score_time [0.10310292]\n",
      "mean_test_accuracy [0.85540985]\n",
      "mean_test_precision [0.79661874]\n",
      "mean_test_recall [0.53679509]\n",
      "mean_test_f1 [0.64128131]\n",
      "mean_test_roc_auc [0.89947254]\n"
     ]
    }
   ],
   "source": [
    "# for k, v in grid.cv_results_.items():\n",
    "#     print(k)\n",
    "# this is for the XGBClassifier() model\n",
    "    \n",
    "keys_scores = [k for k, v in grid.cv_results_.items()]\n",
    "keys_scores\n",
    "filtered_keys = [s for s in keys_scores if s.startswith('mean')]\n",
    "for k in filtered_keys:\n",
    "    print(k, grid.cv_results_[k])"
   ]
  },
  {
   "cell_type": "markdown",
   "metadata": {},
   "source": [
    "### Confusion matrix"
   ]
  },
  {
   "cell_type": "code",
   "execution_count": 134,
   "metadata": {},
   "outputs": [
    {
     "name": "stdout",
     "output_type": "stream",
     "text": [
      "Confusion matrix for the lgbm base model is:\n"
     ]
    },
    {
     "data": {
      "text/plain": [
       "array([[7173,  258],\n",
       "       [1154, 1184]], dtype=int64)"
      ]
     },
     "execution_count": 134,
     "metadata": {},
     "output_type": "execute_result"
    }
   ],
   "source": [
    "from sklearn.metrics import confusion_matrix\n",
    "\n",
    "print('Confusion matrix for the lgbm base model is:')\n",
    "confusion_matrix(y_test, y_pred)"
   ]
  },
  {
   "cell_type": "markdown",
   "metadata": {},
   "source": [
    "### Plot confusion matrix for the base LGBM model"
   ]
  },
  {
   "cell_type": "code",
   "execution_count": 141,
   "metadata": {},
   "outputs": [
    {
     "data": {
      "image/png": "[encoded data removed]",
      "text/plain": [
       "<Figure size 432x288 with 1 Axes>"
      ]
     },
     "metadata": {
      "needs_background": "light"
     },
     "output_type": "display_data"
    }
   ],
   "source": [
    "from mlxtend.plotting import plot_confusion_matrix\n",
    "\n",
    "plot_confusion_matrix(conf_mat = confusion_matrix(y_test, y_pred),\n",
    "                     show_absolute=True,\n",
    "                     show_normed=True,\n",
    "                     )\n",
    "plt.title('LGBM model')\n",
    "plt.show()"
   ]
  },
  {
   "cell_type": "code",
   "execution_count": null,
   "metadata": {},
   "outputs": [],
   "source": []
  }
 ],
 "metadata": {
  "kernelspec": {
   "display_name": "Python 3",
   "language": "python",
   "name": "python3"
  },
  "language_info": {
   "codemirror_mode": {
    "name": "ipython",
    "version": 3
   },
   "file_extension": ".py",
   "mimetype": "text/x-python",
   "name": "python",
   "nbconvert_exporter": "python",
   "pygments_lexer": "ipython3",
   "version": "3.7.4"
  }
 },
 "nbformat": 4,
 "nbformat_minor": 2
}
